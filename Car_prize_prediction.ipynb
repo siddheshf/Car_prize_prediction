{
 "cells": [
  {
   "cell_type": "markdown",
   "metadata": {},
   "source": [
    "\n",
    "<br>\n",
    "#Assumptions for the Linear regression problems<br>\n",
    "1. No multicolinearity<br>\n",
    "2. Data is normally distributed<br>\n",
    "3. Check for outliers<br>\n",
    "4. Linear relationship<br>\n",
    "5. error terms are normally distributed<br>\n",
    "6. homoscedasticity. <br>\n"
   ]
  },
  {
   "cell_type": "code",
   "execution_count": 1,
   "metadata": {},
   "outputs": [],
   "source": [
    "import pandas as pd\n",
    "import numpy as np\n",
    "from sklearn import preprocessing\n",
    "from sklearn.model_selection import train_test_split\n",
    "from sklearn import neighbors\n",
    "from sklearn.metrics import mean_squared_error\n",
    "from sklearn.model_selection import cross_val_score\n",
    "import matplotlib.pyplot as plt\n",
    "import seaborn as sns\n",
    "from scipy import stats\n",
    "from sklearn import metrics"
   ]
  },
  {
   "cell_type": "code",
   "execution_count": 10,
   "metadata": {},
   "outputs": [],
   "source": [
    "cp = pd.read_csv(\"car_price.csv\")"
   ]
  },
  {
   "cell_type": "code",
   "execution_count": 11,
   "metadata": {},
   "outputs": [
    {
     "data": {
      "text/plain": [
       "(205, 26)"
      ]
     },
     "execution_count": 11,
     "metadata": {},
     "output_type": "execute_result"
    }
   ],
   "source": [
    "cp.shape"
   ]
  },
  {
   "cell_type": "code",
   "execution_count": 12,
   "metadata": {
    "collapsed": true
   },
   "outputs": [
    {
     "name": "stdout",
     "output_type": "stream",
     "text": [
      "<class 'pandas.core.frame.DataFrame'>\n",
      "RangeIndex: 205 entries, 0 to 204\n",
      "Data columns (total 26 columns):\n",
      "symboling            205 non-null int64\n",
      "normalized_losses    205 non-null object\n",
      "make                 205 non-null object\n",
      "fuel_type            205 non-null object\n",
      "aspiration           205 non-null object\n",
      "num_of_doors         205 non-null object\n",
      "body_style           205 non-null object\n",
      "drive_wheels         205 non-null object\n",
      "engine_location      205 non-null float64\n",
      "wheel_base           205 non-null object\n",
      "length               205 non-null float64\n",
      "width                205 non-null float64\n",
      "height               205 non-null float64\n",
      "curb_weight          205 non-null int64\n",
      "engine_type          205 non-null object\n",
      "num_of_cylinders     205 non-null object\n",
      "engine_size          205 non-null int64\n",
      "fuel_system          205 non-null object\n",
      "bore                 205 non-null object\n",
      "stroke               205 non-null object\n",
      "compression_ratio    205 non-null float64\n",
      "horsepower           205 non-null object\n",
      "peak_rpm             205 non-null object\n",
      "city_mpg             205 non-null int64\n",
      "highway_mpg          205 non-null int64\n",
      "price                205 non-null object\n",
      "dtypes: float64(5), int64(5), object(16)\n",
      "memory usage: 41.7+ KB\n"
     ]
    }
   ],
   "source": [
    "cp.info()"
   ]
  },
  {
   "cell_type": "code",
   "execution_count": 13,
   "metadata": {
    "collapsed": true
   },
   "outputs": [
    {
     "data": {
      "text/plain": [
       "symboling            0\n",
       "normalized_losses    0\n",
       "make                 0\n",
       "fuel_type            0\n",
       "aspiration           0\n",
       "num_of_doors         0\n",
       "body_style           0\n",
       "drive_wheels         0\n",
       "engine_location      0\n",
       "wheel_base           0\n",
       "length               0\n",
       "width                0\n",
       "height               0\n",
       "curb_weight          0\n",
       "engine_type          0\n",
       "num_of_cylinders     0\n",
       "engine_size          0\n",
       "fuel_system          0\n",
       "bore                 0\n",
       "stroke               0\n",
       "compression_ratio    0\n",
       "horsepower           0\n",
       "peak_rpm             0\n",
       "city_mpg             0\n",
       "highway_mpg          0\n",
       "price                0\n",
       "dtype: int64"
      ]
     },
     "execution_count": 13,
     "metadata": {},
     "output_type": "execute_result"
    }
   ],
   "source": [
    "cp.isnull().sum()"
   ]
  },
  {
   "cell_type": "code",
   "execution_count": 14,
   "metadata": {
    "collapsed": true
   },
   "outputs": [
    {
     "data": {
      "text/plain": [
       "symboling            67\n",
       "normalized_losses     0\n",
       "make                  0\n",
       "fuel_type             0\n",
       "aspiration            0\n",
       "num_of_doors          0\n",
       "body_style            0\n",
       "drive_wheels          0\n",
       "engine_location       0\n",
       "wheel_base            0\n",
       "length                0\n",
       "width                 0\n",
       "height                0\n",
       "curb_weight           0\n",
       "engine_type           0\n",
       "num_of_cylinders      0\n",
       "engine_size           0\n",
       "fuel_system           0\n",
       "bore                  0\n",
       "stroke                0\n",
       "compression_ratio     0\n",
       "horsepower            0\n",
       "peak_rpm              0\n",
       "city_mpg              0\n",
       "highway_mpg           0\n",
       "price                 0\n",
       "dtype: int64"
      ]
     },
     "execution_count": 14,
     "metadata": {},
     "output_type": "execute_result"
    }
   ],
   "source": [
    "cp[cp==0].count()"
   ]
  },
  {
   "cell_type": "code",
   "execution_count": 15,
   "metadata": {
    "collapsed": true
   },
   "outputs": [
    {
     "data": {
      "text/plain": [
       "symboling             0\n",
       "normalized_losses    41\n",
       "make                  0\n",
       "fuel_type             0\n",
       "aspiration            2\n",
       "num_of_doors          0\n",
       "body_style            0\n",
       "drive_wheels          0\n",
       "engine_location       0\n",
       "wheel_base            0\n",
       "length                0\n",
       "width                 0\n",
       "height                0\n",
       "curb_weight           0\n",
       "engine_type           0\n",
       "num_of_cylinders      0\n",
       "engine_size           0\n",
       "fuel_system           0\n",
       "bore                  4\n",
       "stroke                4\n",
       "compression_ratio     0\n",
       "horsepower            2\n",
       "peak_rpm              2\n",
       "city_mpg              0\n",
       "highway_mpg           0\n",
       "price                 4\n",
       "dtype: int64"
      ]
     },
     "execution_count": 15,
     "metadata": {},
     "output_type": "execute_result"
    }
   ],
   "source": [
    "cp[cp=='?'].count()"
   ]
  },
  {
   "cell_type": "code",
   "execution_count": 16,
   "metadata": {},
   "outputs": [
    {
     "data": {
      "text/html": [
       "<div>\n",
       "<style scoped>\n",
       "    .dataframe tbody tr th:only-of-type {\n",
       "        vertical-align: middle;\n",
       "    }\n",
       "\n",
       "    .dataframe tbody tr th {\n",
       "        vertical-align: top;\n",
       "    }\n",
       "\n",
       "    .dataframe thead th {\n",
       "        text-align: right;\n",
       "    }\n",
       "</style>\n",
       "<table border=\"1\" class=\"dataframe\">\n",
       "  <thead>\n",
       "    <tr style=\"text-align: right;\">\n",
       "      <th></th>\n",
       "      <th>symboling</th>\n",
       "      <th>engine_location</th>\n",
       "      <th>length</th>\n",
       "      <th>width</th>\n",
       "      <th>height</th>\n",
       "      <th>curb_weight</th>\n",
       "      <th>engine_size</th>\n",
       "      <th>compression_ratio</th>\n",
       "      <th>city_mpg</th>\n",
       "      <th>highway_mpg</th>\n",
       "    </tr>\n",
       "  </thead>\n",
       "  <tbody>\n",
       "    <tr>\n",
       "      <th>count</th>\n",
       "      <td>205.000000</td>\n",
       "      <td>205.000000</td>\n",
       "      <td>205.000000</td>\n",
       "      <td>205.000000</td>\n",
       "      <td>205.000000</td>\n",
       "      <td>205.000000</td>\n",
       "      <td>205.000000</td>\n",
       "      <td>205.000000</td>\n",
       "      <td>205.000000</td>\n",
       "      <td>205.000000</td>\n",
       "    </tr>\n",
       "    <tr>\n",
       "      <th>mean</th>\n",
       "      <td>0.834146</td>\n",
       "      <td>98.756585</td>\n",
       "      <td>174.049268</td>\n",
       "      <td>65.907805</td>\n",
       "      <td>53.724878</td>\n",
       "      <td>2555.565854</td>\n",
       "      <td>126.907317</td>\n",
       "      <td>10.142537</td>\n",
       "      <td>25.219512</td>\n",
       "      <td>30.751220</td>\n",
       "    </tr>\n",
       "    <tr>\n",
       "      <th>std</th>\n",
       "      <td>1.245307</td>\n",
       "      <td>6.021776</td>\n",
       "      <td>12.337289</td>\n",
       "      <td>2.145204</td>\n",
       "      <td>2.443522</td>\n",
       "      <td>520.680204</td>\n",
       "      <td>41.642693</td>\n",
       "      <td>3.972040</td>\n",
       "      <td>6.542142</td>\n",
       "      <td>6.886443</td>\n",
       "    </tr>\n",
       "    <tr>\n",
       "      <th>min</th>\n",
       "      <td>-2.000000</td>\n",
       "      <td>86.600000</td>\n",
       "      <td>141.100000</td>\n",
       "      <td>60.300000</td>\n",
       "      <td>47.800000</td>\n",
       "      <td>1488.000000</td>\n",
       "      <td>61.000000</td>\n",
       "      <td>7.000000</td>\n",
       "      <td>13.000000</td>\n",
       "      <td>16.000000</td>\n",
       "    </tr>\n",
       "    <tr>\n",
       "      <th>25%</th>\n",
       "      <td>0.000000</td>\n",
       "      <td>94.500000</td>\n",
       "      <td>166.300000</td>\n",
       "      <td>64.100000</td>\n",
       "      <td>52.000000</td>\n",
       "      <td>2145.000000</td>\n",
       "      <td>97.000000</td>\n",
       "      <td>8.600000</td>\n",
       "      <td>19.000000</td>\n",
       "      <td>25.000000</td>\n",
       "    </tr>\n",
       "    <tr>\n",
       "      <th>50%</th>\n",
       "      <td>1.000000</td>\n",
       "      <td>97.000000</td>\n",
       "      <td>173.200000</td>\n",
       "      <td>65.500000</td>\n",
       "      <td>54.100000</td>\n",
       "      <td>2414.000000</td>\n",
       "      <td>120.000000</td>\n",
       "      <td>9.000000</td>\n",
       "      <td>24.000000</td>\n",
       "      <td>30.000000</td>\n",
       "    </tr>\n",
       "    <tr>\n",
       "      <th>75%</th>\n",
       "      <td>2.000000</td>\n",
       "      <td>102.400000</td>\n",
       "      <td>183.100000</td>\n",
       "      <td>66.900000</td>\n",
       "      <td>55.500000</td>\n",
       "      <td>2935.000000</td>\n",
       "      <td>141.000000</td>\n",
       "      <td>9.400000</td>\n",
       "      <td>30.000000</td>\n",
       "      <td>34.000000</td>\n",
       "    </tr>\n",
       "    <tr>\n",
       "      <th>max</th>\n",
       "      <td>3.000000</td>\n",
       "      <td>120.900000</td>\n",
       "      <td>208.100000</td>\n",
       "      <td>72.300000</td>\n",
       "      <td>59.800000</td>\n",
       "      <td>4066.000000</td>\n",
       "      <td>326.000000</td>\n",
       "      <td>23.000000</td>\n",
       "      <td>49.000000</td>\n",
       "      <td>54.000000</td>\n",
       "    </tr>\n",
       "  </tbody>\n",
       "</table>\n",
       "</div>"
      ],
      "text/plain": [
       "        symboling  engine_location      length       width      height  \\\n",
       "count  205.000000       205.000000  205.000000  205.000000  205.000000   \n",
       "mean     0.834146        98.756585  174.049268   65.907805   53.724878   \n",
       "std      1.245307         6.021776   12.337289    2.145204    2.443522   \n",
       "min     -2.000000        86.600000  141.100000   60.300000   47.800000   \n",
       "25%      0.000000        94.500000  166.300000   64.100000   52.000000   \n",
       "50%      1.000000        97.000000  173.200000   65.500000   54.100000   \n",
       "75%      2.000000       102.400000  183.100000   66.900000   55.500000   \n",
       "max      3.000000       120.900000  208.100000   72.300000   59.800000   \n",
       "\n",
       "       curb_weight  engine_size  compression_ratio    city_mpg  highway_mpg  \n",
       "count   205.000000   205.000000         205.000000  205.000000   205.000000  \n",
       "mean   2555.565854   126.907317          10.142537   25.219512    30.751220  \n",
       "std     520.680204    41.642693           3.972040    6.542142     6.886443  \n",
       "min    1488.000000    61.000000           7.000000   13.000000    16.000000  \n",
       "25%    2145.000000    97.000000           8.600000   19.000000    25.000000  \n",
       "50%    2414.000000   120.000000           9.000000   24.000000    30.000000  \n",
       "75%    2935.000000   141.000000           9.400000   30.000000    34.000000  \n",
       "max    4066.000000   326.000000          23.000000   49.000000    54.000000  "
      ]
     },
     "execution_count": 16,
     "metadata": {},
     "output_type": "execute_result"
    }
   ],
   "source": [
    "cp.describe()"
   ]
  },
  {
   "cell_type": "markdown",
   "metadata": {},
   "source": [
    "Fix the ? and zeros"
   ]
  },
  {
   "cell_type": "code",
   "execution_count": 17,
   "metadata": {},
   "outputs": [],
   "source": [
    "cp.replace({'normalized_losses':{'?':np.NaN}},inplace=True)\n",
    "cp['normalized_losses'].unique()\n",
    "cp['normalized_losses'].value_counts()\n",
    "cp['normalized_losses'].fillna(cp['normalized_losses'].value_counts().index[0], inplace=True)"
   ]
  },
  {
   "cell_type": "code",
   "execution_count": 18,
   "metadata": {},
   "outputs": [],
   "source": [
    "cp.replace({'aspiration':{'?':np.NaN}},inplace=True)    \n",
    "cp['aspiration'].unique()\n",
    "cp['aspiration'].value_counts()\n",
    "cp['aspiration'] = cp['aspiration'].fillna('four')"
   ]
  },
  {
   "cell_type": "code",
   "execution_count": 19,
   "metadata": {},
   "outputs": [],
   "source": [
    "cp.replace({'bore':{'?':np.NaN}},inplace=True)  \n",
    "cp['bore'].unique()\n",
    "cp['bore'].value_counts()\n",
    "cp['bore'].fillna(cp['bore'].value_counts().index[0],inplace=True)"
   ]
  },
  {
   "cell_type": "code",
   "execution_count": 20,
   "metadata": {},
   "outputs": [],
   "source": [
    "cp.replace({'stroke':{'?':np.NaN}},inplace=True)    \n",
    "cp['stroke'].unique()\n",
    "cp['stroke'].value_counts()\n",
    "cp['stroke'].fillna(cp['stroke'].value_counts().index[0],inplace=True)"
   ]
  },
  {
   "cell_type": "code",
   "execution_count": 21,
   "metadata": {},
   "outputs": [],
   "source": [
    "cp.replace({'horsepower':{'?':np.NaN}},inplace=True)    \n",
    "cp['horsepower'].unique()\n",
    "cp['horsepower'].value_counts()\n",
    "cp['horsepower'].fillna(cp['horsepower'].value_counts().index[0],inplace=True)"
   ]
  },
  {
   "cell_type": "code",
   "execution_count": 22,
   "metadata": {},
   "outputs": [],
   "source": [
    "cp.replace({'peak_rpm':{'?':np.NaN}},inplace=True)  \n",
    "cp['peak_rpm'].unique()\n",
    "cp['peak_rpm'].value_counts()\n",
    "cp['peak_rpm'].fillna(cp['peak_rpm'].value_counts().index[0],inplace=True)"
   ]
  },
  {
   "cell_type": "markdown",
   "metadata": {},
   "source": [
    "Here target variable is categorical means it has dtype as object this converts target into float and ignore the ? values and then convert them into NaN"
   ]
  },
  {
   "cell_type": "code",
   "execution_count": 23,
   "metadata": {},
   "outputs": [],
   "source": [
    "cp['price'] = pd.to_numeric(cp['price'],errors='coerce')\n",
    "#Remove rows which are null in target variable\n",
    "cp = cp.dropna(subset=['price']).reset_index(drop=True)"
   ]
  },
  {
   "cell_type": "markdown",
   "metadata": {},
   "source": [
    "categorise data into numeric and categorical column so that we can convert categorical column into the numeric column easily if data is stored in two different variable "
   ]
  },
  {
   "cell_type": "code",
   "execution_count": 24,
   "metadata": {},
   "outputs": [
    {
     "name": "stdout",
     "output_type": "stream",
     "text": [
      "<class 'pandas.core.frame.DataFrame'>\n",
      "RangeIndex: 201 entries, 0 to 200\n",
      "Data columns (total 15 columns):\n",
      "normalized_losses    201 non-null object\n",
      "make                 201 non-null object\n",
      "fuel_type            201 non-null object\n",
      "aspiration           201 non-null object\n",
      "num_of_doors         201 non-null object\n",
      "body_style           201 non-null object\n",
      "drive_wheels         201 non-null object\n",
      "wheel_base           201 non-null object\n",
      "engine_type          201 non-null object\n",
      "num_of_cylinders     201 non-null object\n",
      "fuel_system          201 non-null object\n",
      "bore                 201 non-null object\n",
      "stroke               201 non-null object\n",
      "horsepower           201 non-null object\n",
      "peak_rpm             201 non-null object\n",
      "dtypes: object(15)\n",
      "memory usage: 23.6+ KB\n",
      "<class 'pandas.core.frame.DataFrame'>\n",
      "RangeIndex: 201 entries, 0 to 200\n",
      "Data columns (total 11 columns):\n",
      "symboling            201 non-null int64\n",
      "engine_location      201 non-null float64\n",
      "length               201 non-null float64\n",
      "width                201 non-null float64\n",
      "height               201 non-null float64\n",
      "curb_weight          201 non-null int64\n",
      "engine_size          201 non-null int64\n",
      "compression_ratio    201 non-null float64\n",
      "city_mpg             201 non-null int64\n",
      "highway_mpg          201 non-null int64\n",
      "price                201 non-null float64\n",
      "dtypes: float64(6), int64(5)\n",
      "memory usage: 17.4 KB\n"
     ]
    }
   ],
   "source": [
    "cp_cat = cp.select_dtypes(include=\"object\")\n",
    "cp_num = cp.select_dtypes(exclude=\"object\")\n",
    "cp_cat.info()\n",
    "cp_num.info()"
   ]
  },
  {
   "cell_type": "markdown",
   "metadata": {},
   "source": [
    "heck correlation of numericals columns"
   ]
  },
  {
   "cell_type": "code",
   "execution_count": 26,
   "metadata": {},
   "outputs": [
    {
     "data": {
      "image/png": "[encoded data removed]",
      "text/plain": [
       "<Figure size 720x576 with 2 Axes>"
      ]
     },
     "metadata": {
      "needs_background": "light"
     },
     "output_type": "display_data"
    }
   ],
   "source": [
    "plt.figure(figsize=(10,8))\n",
    "cor = cp_num.corr()\n",
    "sns.heatmap(cor, annot=True, cmap=plt.cm.Reds)\n",
    "plt.show()"
   ]
  },
  {
   "cell_type": "markdown",
   "metadata": {},
   "source": [
    "normal distribution check"
   ]
  },
  {
   "cell_type": "code",
   "execution_count": 27,
   "metadata": {},
   "outputs": [
    {
     "data": {
      "image/png": "[encoded data removed]",
      "text/plain": [
       "<Figure size 432x288 with 10 Axes>"
      ]
     },
     "metadata": {
      "needs_background": "light"
     },
     "output_type": "display_data"
    }
   ],
   "source": [
    "row=4; col=3; pos=1\n",
    "fig = plt.figure()\n",
    "for j in cp_num.iloc[:,1:len(cp_num.columns)]:\n",
    "    fig.add_subplot(row,col,pos)\n",
    "    sns.distplot(cp_num[j]).set_ylabel(j)\n",
    "    pos+=1"
   ]
  },
  {
   "cell_type": "markdown",
   "metadata": {},
   "source": [
    "transformation to make it normal distribution"
   ]
  },
  {
   "cell_type": "code",
   "execution_count": 28,
   "metadata": {},
   "outputs": [
    {
     "data": {
      "text/plain": [
       "<matplotlib.axes._subplots.AxesSubplot at 0x22a5db81278>"
      ]
     },
     "execution_count": 28,
     "metadata": {},
     "output_type": "execute_result"
    },
    {
     "data": {
      "image/png": "[encoded data removed]",
      "text/plain": [
       "<Figure size 432x288 with 1 Axes>"
      ]
     },
     "metadata": {
      "needs_background": "light"
     },
     "output_type": "display_data"
    }
   ],
   "source": [
    "cp['engine_location'] = np.random.normal(cp['engine_location'])\n",
    "sns.distplot(cp['engine_location'])"
   ]
  },
  {
   "cell_type": "code",
   "execution_count": 29,
   "metadata": {},
   "outputs": [
    {
     "data": {
      "text/plain": [
       "<matplotlib.axes._subplots.AxesSubplot at 0x22a5dd13748>"
      ]
     },
     "execution_count": 29,
     "metadata": {},
     "output_type": "execute_result"
    },
    {
     "data": {
      "image/png": "[encoded data removed]",
      "text/plain": [
       "<Figure size 432x288 with 1 Axes>"
      ]
     },
     "metadata": {
      "needs_background": "light"
     },
     "output_type": "display_data"
    }
   ],
   "source": [
    "cp['width'] = np.random.normal(cp['width'])\n",
    "sns.distplot(cp['width'])"
   ]
  },
  {
   "cell_type": "code",
   "execution_count": 30,
   "metadata": {},
   "outputs": [
    {
     "data": {
      "text/plain": [
       "<matplotlib.axes._subplots.AxesSubplot at 0x22a5dd99550>"
      ]
     },
     "execution_count": 30,
     "metadata": {},
     "output_type": "execute_result"
    },
    {
     "data": {
      "image/png": "[encoded data removed]",
      "text/plain": [
       "<Figure size 432x288 with 1 Axes>"
      ]
     },
     "metadata": {
      "needs_background": "light"
     },
     "output_type": "display_data"
    }
   ],
   "source": [
    "cp['height'] = np.random.normal(np.gradient(cp['height']))\n",
    "sns.distplot(cp['height'])"
   ]
  },
  {
   "cell_type": "code",
   "execution_count": 31,
   "metadata": {},
   "outputs": [
    {
     "data": {
      "text/plain": [
       "<matplotlib.axes._subplots.AxesSubplot at 0x22a5de1ca58>"
      ]
     },
     "execution_count": 31,
     "metadata": {},
     "output_type": "execute_result"
    },
    {
     "data": {
      "image/png": "[encoded data removed]",
      "text/plain": [
       "<Figure size 432x288 with 1 Axes>"
      ]
     },
     "metadata": {
      "needs_background": "light"
     },
     "output_type": "display_data"
    }
   ],
   "source": [
    "cp['engine_size'] = np.cbrt(cp['engine_size'])\n",
    "sns.distplot(cp['engine_size'])"
   ]
  },
  {
   "cell_type": "code",
   "execution_count": 32,
   "metadata": {},
   "outputs": [
    {
     "data": {
      "text/plain": [
       "<matplotlib.axes._subplots.AxesSubplot at 0x22a5d4c8e48>"
      ]
     },
     "execution_count": 32,
     "metadata": {},
     "output_type": "execute_result"
    },
    {
     "data": {
      "image/png": "[encoded data removed]",
      "text/plain": [
       "<Figure size 432x288 with 1 Axes>"
      ]
     },
     "metadata": {
      "needs_background": "light"
     },
     "output_type": "display_data"
    }
   ],
   "source": [
    "cp['city_mpg'] = np.random.normal(cp['city_mpg'],.1)\n",
    "sns.distplot(cp['city_mpg'])"
   ]
  },
  {
   "cell_type": "code",
   "execution_count": 33,
   "metadata": {},
   "outputs": [
    {
     "data": {
      "text/plain": [
       "<matplotlib.axes._subplots.AxesSubplot at 0x22a5dd7d048>"
      ]
     },
     "execution_count": 33,
     "metadata": {},
     "output_type": "execute_result"
    },
    {
     "data": {
      "image/png": "[encoded data removed]",
      "text/plain": [
       "<Figure size 432x288 with 1 Axes>"
      ]
     },
     "metadata": {
      "needs_background": "light"
     },
     "output_type": "display_data"
    }
   ],
   "source": [
    "cp['highway_mpg']= np.random.normal(cp['highway_mpg'])\n",
    "sns.distplot(cp['highway_mpg'])"
   ]
  },
  {
   "cell_type": "code",
   "execution_count": 34,
   "metadata": {},
   "outputs": [
    {
     "data": {
      "text/plain": [
       "<matplotlib.axes._subplots.AxesSubplot at 0x22a5d70d780>"
      ]
     },
     "execution_count": 34,
     "metadata": {},
     "output_type": "execute_result"
    },
    {
     "data": {
      "image/png": "[encoded data removed]",
      "text/plain": [
       "<Figure size 432x288 with 1 Axes>"
      ]
     },
     "metadata": {
      "needs_background": "light"
     },
     "output_type": "display_data"
    }
   ],
   "source": [
    "cp['compression_ratio']= np.random.normal(np.sin(cp['compression_ratio']))\n",
    "sns.distplot(cp['compression_ratio'])"
   ]
  },
  {
   "cell_type": "code",
   "execution_count": 35,
   "metadata": {},
   "outputs": [
    {
     "data": {
      "text/plain": [
       "<matplotlib.axes._subplots.AxesSubplot at 0x22a5d863320>"
      ]
     },
     "execution_count": 35,
     "metadata": {},
     "output_type": "execute_result"
    },
    {
     "data": {
      "image/png": "[encoded data removed]",
      "text/plain": [
       "<Figure size 432x288 with 1 Axes>"
      ]
     },
     "metadata": {
      "needs_background": "light"
     },
     "output_type": "display_data"
    }
   ],
   "source": [
    "cp['curb_weight']= np.power(np.log2(cp['curb_weight']),1)\n",
    "sns.distplot(cp['curb_weight'])"
   ]
  },
  {
   "cell_type": "markdown",
   "metadata": {},
   "source": [
    "gain defined cp_num because changes made to cp should be reflected"
   ]
  },
  {
   "cell_type": "code",
   "execution_count": 36,
   "metadata": {},
   "outputs": [],
   "source": [
    "cp_num = cp.select_dtypes(exclude=\"object\")"
   ]
  },
  {
   "cell_type": "markdown",
   "metadata": {},
   "source": [
    "Check normal distribution after transformation"
   ]
  },
  {
   "cell_type": "code",
   "execution_count": 37,
   "metadata": {},
   "outputs": [
    {
     "data": {
      "image/png": "[encoded data removed]",
      "text/plain": [
       "<Figure size 432x288 with 11 Axes>"
      ]
     },
     "metadata": {
      "needs_background": "light"
     },
     "output_type": "display_data"
    }
   ],
   "source": [
    "row=4; col=3; pos=1\n",
    "fig = plt.figure()\n",
    "for q in cp_num:\n",
    "    fig.add_subplot(row,col,pos)\n",
    "    sns.distplot(cp_num[q]).set_ylabel(q)\n",
    "    pos+=1"
   ]
  },
  {
   "cell_type": "markdown",
   "metadata": {},
   "source": [
    "Check outiers"
   ]
  },
  {
   "cell_type": "code",
   "execution_count": 38,
   "metadata": {},
   "outputs": [
    {
     "data": {
      "image/png": "[encoded data removed]",
      "text/plain": [
       "<Figure size 432x288 with 11 Axes>"
      ]
     },
     "metadata": {
      "needs_background": "light"
     },
     "output_type": "display_data"
    }
   ],
   "source": [
    "row=4; col=3; pos=1\n",
    "#sns.set(font_scale=1,color_codes=True)\n",
    "fig = plt.figure()\n",
    "for i in cp_num:\n",
    "    fig.add_subplot(row,col,pos)\n",
    "    sns.boxplot(cp_num[i]).set_ylabel(i)\n",
    "    pos = pos+1"
   ]
  },
  {
   "cell_type": "code",
   "execution_count": 39,
   "metadata": {},
   "outputs": [
    {
     "name": "stdout",
     "output_type": "stream",
     "text": [
      "[0.19737036029756264, 1.0512239748911945, 0.15444635183586677, 0.6170679501507106, -0.2640640015006342, 0.28452211880447775, 1.2045457631973844, -0.13372615156994772, 0.6761360906163669, 0.6189163976451589, 1.8096753390980749]\n"
     ]
    },
    {
     "data": {
      "text/plain": [
       "Index(['symboling', 'engine_location', 'length', 'width', 'height',\n",
       "       'curb_weight', 'engine_size', 'compression_ratio', 'city_mpg',\n",
       "       'highway_mpg', 'price'],\n",
       "      dtype='object')"
      ]
     },
     "execution_count": 39,
     "metadata": {},
     "output_type": "execute_result"
    }
   ],
   "source": [
    "#From skewness we came to know that outliers; ideal value is -1 to 1\n",
    "skew_val = []\n",
    "for k in cp_num:\n",
    "    skweness = cp_num[k].skew()\n",
    "    skew_val.append(skweness)\n",
    "print(skew_val)\n",
    "cp_num.columns"
   ]
  },
  {
   "cell_type": "markdown",
   "metadata": {},
   "source": [
    "Fixing outliers with appropriate values"
   ]
  },
  {
   "cell_type": "code",
   "execution_count": 42,
   "metadata": {},
   "outputs": [
    {
     "name": "stdout",
     "output_type": "stream",
     "text": [
      "4.932424148660941\n",
      "5.788960372062403\n"
     ]
    },
    {
     "data": {
      "text/plain": [
       "count    201.000000\n",
       "mean       4.911231\n",
       "std        0.362068\n",
       "min        3.936497\n",
       "25%        4.610436\n",
       "50%        4.932424\n",
       "75%        5.200000\n",
       "max        5.677411\n",
       "Name: engine_size, dtype: float64"
      ]
     },
     "execution_count": 42,
     "metadata": {},
     "output_type": "execute_result"
    }
   ],
   "source": [
    "print(cp['engine_size'].quantile(0.50))\n",
    "print(cp['engine_size'].quantile(0.95)) \n",
    "cp['engine_size'] = np.where(cp['engine_size'] > 5.78, 5.20, cp['engine_size'])\n",
    "cp['engine_size'].describe()"
   ]
  },
  {
   "cell_type": "code",
   "execution_count": 43,
   "metadata": {},
   "outputs": [
    {
     "name": "stdout",
     "output_type": "stream",
     "text": [
      "96.9798215614587\n",
      "111.2744718364313\n"
     ]
    },
    {
     "data": {
      "text/plain": [
       "count    201.000000\n",
       "mean      98.114344\n",
       "std        4.903465\n",
       "min       85.477331\n",
       "25%       94.604469\n",
       "50%       96.979822\n",
       "75%      101.600000\n",
       "max      111.274472\n",
       "Name: engine_location, dtype: float64"
      ]
     },
     "execution_count": 43,
     "metadata": {},
     "output_type": "execute_result"
    }
   ],
   "source": [
    "print(cp['engine_location'].quantile(0.50))\n",
    "print(cp['engine_location'].quantile(0.95)) \n",
    "cp['engine_location'] = np.where(cp['engine_location'] > 111.4, 101.6, cp['engine_location'])\n",
    "cp['engine_location'].describe()"
   ]
  },
  {
   "cell_type": "code",
   "execution_count": 44,
   "metadata": {},
   "outputs": [
    {
     "name": "stdout",
     "output_type": "stream",
     "text": [
      "150.0\n",
      "173.2\n"
     ]
    },
    {
     "data": {
      "text/plain": [
       "count    201.000000\n",
       "mean     174.549751\n",
       "std       11.759881\n",
       "min      150.000000\n",
       "25%      166.800000\n",
       "50%      173.200000\n",
       "75%      183.500000\n",
       "max      208.100000\n",
       "Name: length, dtype: float64"
      ]
     },
     "execution_count": 44,
     "metadata": {},
     "output_type": "execute_result"
    }
   ],
   "source": [
    "print(cp['length'].quantile(0.02))\n",
    "print(cp['length'].quantile(0.50)) \n",
    "cp['length'] = np.where(cp['length'] < 150, 166.8, cp['length'])\n",
    "cp['length'].describe()"
   ]
  },
  {
   "cell_type": "code",
   "execution_count": 45,
   "metadata": {},
   "outputs": [
    {
     "name": "stdout",
     "output_type": "stream",
     "text": [
      "72.07873410662928\n",
      "65.63406157736071\n"
     ]
    },
    {
     "data": {
      "text/plain": [
       "count    201.000000\n",
       "mean      65.803757\n",
       "std        2.056513\n",
       "min       59.541255\n",
       "25%       64.262424\n",
       "50%       65.634062\n",
       "75%       66.960000\n",
       "max       70.433349\n",
       "Name: width, dtype: float64"
      ]
     },
     "execution_count": 45,
     "metadata": {},
     "output_type": "execute_result"
    }
   ],
   "source": [
    "print(cp['width'].quantile(0.99))\n",
    "print(cp['width'].quantile(0.50)) \n",
    "#cp['width'] = np.where(cp['width'] < 62.14, 64.10, cp['width'])\n",
    "cp['width'] = np.where(cp['width'] > 70.86, 66.96, cp['width'])\n",
    "cp['width'] = np.where(cp['width'] < 61.84, 64.26, cp['width'])\n",
    "cp['width'].describe()"
   ]
  },
  {
   "cell_type": "code",
   "execution_count": 46,
   "metadata": {},
   "outputs": [
    {
     "name": "stdout",
     "output_type": "stream",
     "text": [
      "-1.7088547875618174\n",
      "0.5117638802137898\n"
     ]
    },
    {
     "data": {
      "text/plain": [
       "count    201.000000\n",
       "mean       0.533273\n",
       "std        1.044876\n",
       "min       -2.186538\n",
       "25%       -0.136168\n",
       "50%        0.511764\n",
       "75%        1.231448\n",
       "max        3.121763\n",
       "Name: compression_ratio, dtype: float64"
      ]
     },
     "execution_count": 46,
     "metadata": {},
     "output_type": "execute_result"
    }
   ],
   "source": [
    "print(cp['compression_ratio'].quantile(0.02))\n",
    "print(cp['compression_ratio'].quantile(0.50)) \n",
    "cp['compression_ratio'] = np.where(cp['compression_ratio'] < -2.24, -0.36, cp['compression_ratio'])\n",
    "cp['compression_ratio'].describe()"
   ]
  },
  {
   "cell_type": "code",
   "execution_count": 47,
   "metadata": {},
   "outputs": [
    {
     "name": "stdout",
     "output_type": "stream",
     "text": [
      "46.29436301352555\n",
      "30.30005832703602\n"
     ]
    },
    {
     "data": {
      "text/plain": [
       "count    201.000000\n",
       "mean      30.301025\n",
       "std        5.893110\n",
       "min       15.346011\n",
       "25%       25.500256\n",
       "50%       30.300058\n",
       "75%       35.026982\n",
       "max       44.918039\n",
       "Name: highway_mpg, dtype: float64"
      ]
     },
     "execution_count": 47,
     "metadata": {},
     "output_type": "execute_result"
    }
   ],
   "source": [
    "print(cp['highway_mpg'].quantile(0.97))\n",
    "print(cp['highway_mpg'].quantile(0.50)) \n",
    "cp['highway_mpg'] = np.where(cp['highway_mpg'] > 45.48, 35.19, cp['highway_mpg'])\n",
    "cp['highway_mpg'].describe()"
   ]
  },
  {
   "cell_type": "code",
   "execution_count": 48,
   "metadata": {},
   "outputs": [
    {
     "name": "stdout",
     "output_type": "stream",
     "text": [
      "45.1157636655168\n",
      "24.11115982269779\n"
     ]
    },
    {
     "data": {
      "text/plain": [
       "\"\\nprint(cp['height'].quantile(0.02))\\nprint(cp['height'].quantile(0.50)) \\ncp['height'] = np.where(cp['height'] > 4.75, 1.22, cp['height'])\\ncp['height'] = np.where(cp['height'] < -3.52, -1.00, cp['height'])\\ncp['height'].describe()\\n\""
      ]
     },
     "execution_count": 48,
     "metadata": {},
     "output_type": "execute_result"
    }
   ],
   "source": [
    "print(cp['city_mpg'].quantile(0.99))\n",
    "print(cp['city_mpg'].quantile(0.50)) \n",
    "cp['city_mpg'] = np.where(cp['city_mpg'] > 44.88, 29.96, cp['city_mpg'])\n",
    "cp['city_mpg'].describe()"
   ]
  },
  {
   "cell_type": "markdown",
   "metadata": {},
   "source": [
    "Again defined cp_num because changes made to cp should be reflected to the cp_num"
   ]
  },
  {
   "cell_type": "code",
   "execution_count": 66,
   "metadata": {},
   "outputs": [
    {
     "data": {
      "image/png": "[encoded data removed]",
      "text/plain": [
       "<Figure size 432x288 with 11 Axes>"
      ]
     },
     "metadata": {
      "needs_background": "light"
     },
     "output_type": "display_data"
    }
   ],
   "source": [
    "cp_num = cp.select_dtypes(exclude=\"object\")\n",
    "row=4; col=3; pos=1\n",
    "#sns.set(font_scale=1,color_codes=True)\n",
    "fig = plt.figure()\n",
    "for t in cp_num:\n",
    "    fig.add_subplot(row,col,pos)\n",
    "    sns.boxplot(cp_num[t]).set_ylabel(t)\n",
    "    pos = pos+1"
   ]
  },
  {
   "cell_type": "markdown",
   "metadata": {},
   "source": [
    "We have ignored the height feature because as we can see the data is distributed on both sides of the whisker. We can say those are not true outliers"
   ]
  },
  {
   "cell_type": "markdown",
   "metadata": {},
   "source": [
    "Check again for skewness to decide whether outliers fixed; ideal value is -1 to 1"
   ]
  },
  {
   "cell_type": "code",
   "execution_count": 65,
   "metadata": {},
   "outputs": [
    {
     "name": "stdout",
     "output_type": "stream",
     "text": [
      "[0.19737036029756264, 0.5238195276772929, 0.3577176784288239, 0.4171456242800351, -0.2640640015006342, 0.28452211880447775, 0.23243582316088077, 0.00572414386970994, 0.23395103768895467, -0.02216869762138233, 1.8096753390980749]\n"
     ]
    }
   ],
   "source": [
    "fixed_skew_val = []\n",
    "for u in cp_num:\n",
    "    new_skweness = cp_num[u].skew()\n",
    "    fixed_skew_val.append(new_skweness)\n",
    "print(fixed_skew_val)"
   ]
  },
  {
   "cell_type": "markdown",
   "metadata": {},
   "source": [
    "Convert categorical values into numerical values"
   ]
  },
  {
   "cell_type": "code",
   "execution_count": 70,
   "metadata": {},
   "outputs": [],
   "source": [
    "cp['normalized_losses'] = pd.to_numeric(cp['normalized_losses'])"
   ]
  },
  {
   "cell_type": "code",
   "execution_count": 71,
   "metadata": {},
   "outputs": [],
   "source": [
    "cp['bore'] = pd.to_numeric(cp['bore'])"
   ]
  },
  {
   "cell_type": "code",
   "execution_count": 72,
   "metadata": {},
   "outputs": [],
   "source": [
    "cp['stroke'] = pd.to_numeric(cp['stroke'])"
   ]
  },
  {
   "cell_type": "code",
   "execution_count": 73,
   "metadata": {},
   "outputs": [],
   "source": [
    "cp['horsepower'] = pd.to_numeric(cp['horsepower'])"
   ]
  },
  {
   "cell_type": "code",
   "execution_count": 74,
   "metadata": {},
   "outputs": [],
   "source": [
    "cp['peak_rpm'] = pd.to_numeric(cp['peak_rpm'])"
   ]
  },
  {
   "cell_type": "markdown",
   "metadata": {},
   "source": [
    "Here we converted all non-numeric into numeric by applying various methods"
   ]
  },
  {
   "cell_type": "code",
   "execution_count": 75,
   "metadata": {},
   "outputs": [],
   "source": [
    "cp = pd.get_dummies(cp, columns=['drive_wheels','make','fuel_type','aspiration'],drop_first=True)"
   ]
  },
  {
   "cell_type": "code",
   "execution_count": 76,
   "metadata": {},
   "outputs": [],
   "source": [
    "cp['engine_type'] = np.where(cp['engine_type'].str.contains(\"ohc\"), 1,0)"
   ]
  },
  {
   "cell_type": "code",
   "execution_count": 77,
   "metadata": {},
   "outputs": [],
   "source": [
    "cp['body_style'] = np.where(cp['body_style'].str.contains(\"rwd\"), 0,1)"
   ]
  },
  {
   "cell_type": "code",
   "execution_count": 78,
   "metadata": {},
   "outputs": [],
   "source": [
    "nums = {\"num_of_doors\":  {\"sedan\": 1, \"hatchback\": 2, \"wagon\": 3, \"hardtop\":4, \"convertible\":5},\n",
    "        \"num_of_cylinders\": {\"four\": 4, \"six\": 6, \"five\": 5, \"eight\": 8,\n",
    "                                  \"two\": 2, \"twelve\": 12, \"three\": 3}}\n",
    "cp.replace(nums, inplace=True)"
   ]
  },
  {
   "cell_type": "code",
   "execution_count": 79,
   "metadata": {},
   "outputs": [],
   "source": [
    "from sklearn.preprocessing import LabelEncoder\n",
    "lb_make = LabelEncoder()\n",
    "cp[\"fuel_system\"] = lb_make.fit_transform(cp[\"fuel_system\"])\n",
    "cp[\"wheel_base\"] = lb_make.fit_transform(cp[\"wheel_base\"])"
   ]
  },
  {
   "cell_type": "code",
   "execution_count": 80,
   "metadata": {},
   "outputs": [
    {
     "name": "stdout",
     "output_type": "stream",
     "text": [
      "<class 'pandas.core.frame.DataFrame'>\n",
      "RangeIndex: 201 entries, 0 to 200\n",
      "Data columns (total 26 columns):\n",
      "symboling            201 non-null int64\n",
      "normalized_losses    201 non-null int64\n",
      "num_of_doors         201 non-null int64\n",
      "body_style           201 non-null int32\n",
      "engine_location      201 non-null float64\n",
      "wheel_base           201 non-null int32\n",
      "length               201 non-null float64\n",
      "width                201 non-null float64\n",
      "height               201 non-null float64\n",
      "curb_weight          201 non-null float64\n",
      "engine_type          201 non-null int32\n",
      "num_of_cylinders     201 non-null int64\n",
      "engine_size          201 non-null float64\n",
      "fuel_system          201 non-null int32\n",
      "bore                 201 non-null float64\n",
      "stroke               201 non-null float64\n",
      "compression_ratio    201 non-null float64\n",
      "horsepower           201 non-null int64\n",
      "peak_rpm             201 non-null int64\n",
      "city_mpg             201 non-null float64\n",
      "highway_mpg          201 non-null float64\n",
      "price                201 non-null float64\n",
      "drive_wheels_rear    201 non-null uint8\n",
      "make_gas             201 non-null uint8\n",
      "fuel_type_turbo      201 non-null uint8\n",
      "aspiration_two       201 non-null uint8\n",
      "dtypes: float64(12), int32(4), int64(6), uint8(4)\n",
      "memory usage: 32.3 KB\n"
     ]
    },
    {
     "data": {
      "text/plain": [
       "(201, 26)"
      ]
     },
     "execution_count": 80,
     "metadata": {},
     "output_type": "execute_result"
    }
   ],
   "source": [
    "cp.info()\n",
    "cp.shape"
   ]
  },
  {
   "cell_type": "markdown",
   "metadata": {},
   "source": [
    "We can use this directly for model building as data pre-preprocessing is done in this file"
   ]
  },
  {
   "cell_type": "code",
   "execution_count": 81,
   "metadata": {},
   "outputs": [],
   "source": [
    "cp.to_csv(\"modified_CarPrice.csv\")"
   ]
  },
  {
   "cell_type": "code",
   "execution_count": 83,
   "metadata": {},
   "outputs": [
    {
     "name": "stdout",
     "output_type": "stream",
     "text": [
      "Trainx and Trainy are of sizes (140, 25) (140,)\n",
      "Testx and Testy are of sizes (61, 25) (61,)\n"
     ]
    }
   ],
   "source": [
    "train,test = train_test_split(cp,test_size=0.3)\n",
    "trainx = train.drop(['price'],axis=1)\n",
    "trainy = train['price']\n",
    "print(\"Trainx and Trainy are of sizes {} {}\".format(trainx.shape, trainy.shape))\n",
    "testx = test.drop(['price'],axis=1)\n",
    "testy = test['price']\n",
    "print(\"Testx and Testy are of sizes {} {}\".format(testx.shape, testy.shape))"
   ]
  },
  {
   "cell_type": "markdown",
   "metadata": {},
   "source": [
    "# Linear regression model (m1)"
   ]
  },
  {
   "cell_type": "code",
   "execution_count": 88,
   "metadata": {},
   "outputs": [
    {
     "name": "stdout",
     "output_type": "stream",
     "text": [
      "const_Trainx and Trainy are of sizes (140, 26) (140,)\n",
      "const_Testx and Testy are of sizes (61, 26) (61,)\n"
     ]
    },
    {
     "name": "stderr",
     "output_type": "stream",
     "text": [
      "C:\\Users\\siddh\\AppData\\Roaming\\Python\\Python37\\site-packages\\numpy\\core\\fromnumeric.py:2495: FutureWarning: Method .ptp is deprecated and will be removed in a future version. Use numpy.ptp instead.\n",
      "  return ptp(axis=axis, out=out, **kwargs)\n"
     ]
    }
   ],
   "source": [
    "from statsmodels.tools.tools import add_constant as adc\n",
    "const_trainx = adc(trainx)\n",
    "print(\"const_Trainx and Trainy are of sizes {} {}\".format(const_trainx.shape, trainy.shape))\n",
    "const_testx = adc(testx)\n",
    "print(\"const_Testx and Testy are of sizes {} {}\".format(const_testx.shape, testy.shape))"
   ]
  },
  {
   "cell_type": "code",
   "execution_count": 89,
   "metadata": {},
   "outputs": [],
   "source": [
    "m1= OLS(trainy,const_trainx).fit()\n",
    "m1.summary()\n",
    "p1 = m1.predict(const_testx)"
   ]
  },
  {
   "cell_type": "code",
   "execution_count": 90,
   "metadata": {},
   "outputs": [
    {
     "data": {
      "text/plain": [
       "<matplotlib.axes._subplots.AxesSubplot at 0x22a5f0074a8>"
      ]
     },
     "execution_count": 90,
     "metadata": {},
     "output_type": "execute_result"
    },
    {
     "data": {
      "image/png": "[encoded data removed]",
      "text/plain": [
       "<Figure size 432x288 with 1 Axes>"
      ]
     },
     "metadata": {
      "needs_background": "light"
     },
     "output_type": "display_data"
    }
   ],
   "source": [
    "err_m1 = testy - p1\n",
    "sns.residplot(p1,err_m1,lowess=True,color=\"black\")"
   ]
  },
  {
   "cell_type": "markdown",
   "metadata": {},
   "source": [
    "Parameters check MAE, MSE, RMSE"
   ]
  },
  {
   "cell_type": "code",
   "execution_count": 93,
   "metadata": {},
   "outputs": [
    {
     "name": "stdout",
     "output_type": "stream",
     "text": [
      "2125.8064754941565\n"
     ]
    }
   ],
   "source": [
    "#MAE\n",
    "m1_mae = metrics.mean_absolute_error(testy, p1)\n",
    "print(m1_mae)"
   ]
  },
  {
   "cell_type": "code",
   "execution_count": 94,
   "metadata": {},
   "outputs": [
    {
     "name": "stdout",
     "output_type": "stream",
     "text": [
      "12648689.422462152\n"
     ]
    }
   ],
   "source": [
    "#MSE\n",
    "m1_mse = metrics.mean_squared_error(testy, p1)\n",
    "print(m1_mse)"
   ]
  },
  {
   "cell_type": "code",
   "execution_count": 95,
   "metadata": {},
   "outputs": [
    {
     "name": "stdout",
     "output_type": "stream",
     "text": [
      "3556.4996024830584\n"
     ]
    }
   ],
   "source": [
    "#RMSE\n",
    "m1_rmse = np.sqrt(metrics.mean_squared_error(testy, p1))\n",
    "print(m1_rmse)"
   ]
  },
  {
   "cell_type": "markdown",
   "metadata": {},
   "source": [
    "Decision Tree regression model"
   ]
  },
  {
   "cell_type": "code",
   "execution_count": 96,
   "metadata": {},
   "outputs": [],
   "source": [
    "from sklearn.tree import DecisionTreeRegressor\n",
    "from sklearn.tree import export_graphviz\n",
    "from subprocess import check_call"
   ]
  },
  {
   "cell_type": "code",
   "execution_count": 97,
   "metadata": {},
   "outputs": [],
   "source": [
    "regressor = DecisionTreeRegressor()\n",
    "m2 = regressor.fit(trainx, trainy)\n",
    "p2 = m2.predict(testx)"
   ]
  },
  {
   "cell_type": "markdown",
   "metadata": {},
   "source": [
    "Parameters check MAE, MSE, RMSE"
   ]
  },
  {
   "cell_type": "code",
   "execution_count": 100,
   "metadata": {},
   "outputs": [
    {
     "name": "stdout",
     "output_type": "stream",
     "text": [
      "2347.0819672131147\n"
     ]
    }
   ],
   "source": [
    "#MAE\n",
    "m2_mae = metrics.mean_absolute_error(testy, p2)\n",
    "print(m2_mae)"
   ]
  },
  {
   "cell_type": "code",
   "execution_count": 98,
   "metadata": {},
   "outputs": [
    {
     "name": "stdout",
     "output_type": "stream",
     "text": [
      "12332394.590163935\n"
     ]
    }
   ],
   "source": [
    "#MSE\n",
    "m2_mse = metrics.mean_squared_error(testy, p2)\n",
    "print(m2_mse)"
   ]
  },
  {
   "cell_type": "code",
   "execution_count": 99,
   "metadata": {},
   "outputs": [
    {
     "name": "stdout",
     "output_type": "stream",
     "text": [
      "3511.7509294031565\n"
     ]
    }
   ],
   "source": [
    "#RMSE\n",
    "m2_rmse = np.sqrt(metrics.mean_squared_error(testy, p2))\n",
    "print(m2_rmse)"
   ]
  },
  {
   "cell_type": "markdown",
   "metadata": {},
   "source": [
    "Random Forest regression model"
   ]
  },
  {
   "cell_type": "code",
   "execution_count": 101,
   "metadata": {},
   "outputs": [],
   "source": [
    "from sklearn.ensemble import RandomForestRegressor"
   ]
  },
  {
   "cell_type": "code",
   "execution_count": 102,
   "metadata": {},
   "outputs": [
    {
     "name": "stderr",
     "output_type": "stream",
     "text": [
      "C:\\ProgramData\\Anaconda3\\lib\\site-packages\\sklearn\\ensemble\\forest.py:245: FutureWarning: The default value of n_estimators will change from 10 in version 0.20 to 100 in 0.22.\n",
      "  \"10 in version 0.20 to 100 in 0.22.\", FutureWarning)\n"
     ]
    }
   ],
   "source": [
    "m3= RandomForestRegressor().fit(trainx, trainy)\n",
    "p3 = m3.predict(testx)"
   ]
  },
  {
   "cell_type": "markdown",
   "metadata": {},
   "source": [
    "Parameters check MAE, MSE, RMSE"
   ]
  },
  {
   "cell_type": "code",
   "execution_count": 104,
   "metadata": {},
   "outputs": [
    {
     "name": "stdout",
     "output_type": "stream",
     "text": [
      "1971.6245901639343\n"
     ]
    }
   ],
   "source": [
    "#MAE\n",
    "m3_mae = metrics.mean_absolute_error(testy, p3)\n",
    "print(m3_mae)"
   ]
  },
  {
   "cell_type": "code",
   "execution_count": 103,
   "metadata": {},
   "outputs": [
    {
     "name": "stdout",
     "output_type": "stream",
     "text": [
      "7804494.351967214\n"
     ]
    }
   ],
   "source": [
    "#MSE\n",
    "m3_mse = metrics.mean_squared_error(testy, p3)\n",
    "print(m3_mse)"
   ]
  },
  {
   "cell_type": "code",
   "execution_count": 105,
   "metadata": {},
   "outputs": [
    {
     "name": "stdout",
     "output_type": "stream",
     "text": [
      "2793.6525109553645\n"
     ]
    }
   ],
   "source": [
    "#RMSE\n",
    "m3_rmse = np.sqrt(metrics.mean_squared_error(testy, p3))\n",
    "print(m3_rmse)"
   ]
  },
  {
   "cell_type": "markdown",
   "metadata": {},
   "source": [
    "KNN regression model"
   ]
  },
  {
   "cell_type": "code",
   "execution_count": 106,
   "metadata": {},
   "outputs": [],
   "source": [
    "from sklearn import neighbors"
   ]
  },
  {
   "cell_type": "code",
   "execution_count": 107,
   "metadata": {},
   "outputs": [
    {
     "name": "stdout",
     "output_type": "stream",
     "text": [
      "3\n"
     ]
    }
   ],
   "source": [
    "nn = list(range(3,16))\n",
    "cv_scores =[]\n",
    "for k in nn:\n",
    "    knn = neighbors.KNeighborsRegressor(n_neighbors=k)\n",
    "    scores = cross_val_score(knn,trainx,trainy,cv=5,scoring=\"neg_mean_squared_error\")\n",
    "    cv_scores.append(scores.mean())\n",
    "    \n",
    "opt_k= nn[cv_scores.index(max(cv_scores))]\n",
    "print(opt_k)"
   ]
  },
  {
   "cell_type": "markdown",
   "metadata": {},
   "source": [
    "Build the model using optimal k value"
   ]
  },
  {
   "cell_type": "code",
   "execution_count": 108,
   "metadata": {},
   "outputs": [],
   "source": [
    "m4 = neighbors.KNeighborsRegressor(n_neighbors=opt_k).fit(trainx,trainy)\n",
    "p4 = m4.predict(testx)"
   ]
  },
  {
   "cell_type": "markdown",
   "metadata": {},
   "source": [
    "Parameters check MAE, MSE, RMSE"
   ]
  },
  {
   "cell_type": "code",
   "execution_count": 111,
   "metadata": {},
   "outputs": [
    {
     "name": "stdout",
     "output_type": "stream",
     "text": [
      "3287.0601092896172\n"
     ]
    }
   ],
   "source": [
    "#MAE\n",
    "m4_mae = metrics.mean_absolute_error(testy, p4)\n",
    "print(m4_mae)"
   ]
  },
  {
   "cell_type": "code",
   "execution_count": 109,
   "metadata": {},
   "outputs": [
    {
     "name": "stdout",
     "output_type": "stream",
     "text": [
      "49593176.97996358\n"
     ]
    }
   ],
   "source": [
    "#MSE\n",
    "m4_mse = metrics.mean_squared_error(testy, p4)\n",
    "print(m4_mse)"
   ]
  },
  {
   "cell_type": "code",
   "execution_count": 113,
   "metadata": {},
   "outputs": [
    {
     "name": "stdout",
     "output_type": "stream",
     "text": [
      "7042.242326131896\n"
     ]
    }
   ],
   "source": [
    "#RMSE\n",
    "m4_rmse = np.sqrt(metrics.mean_squared_error(testy, p4))\n",
    "print(m4_rmse)"
   ]
  },
  {
   "cell_type": "markdown",
   "metadata": {},
   "source": [
    "Implement knn using minmax scaler"
   ]
  },
  {
   "cell_type": "code",
   "execution_count": 114,
   "metadata": {},
   "outputs": [],
   "source": [
    "tranx_trans = trainx.copy()\n",
    "testx_trans = testx.copy()"
   ]
  },
  {
   "cell_type": "code",
   "execution_count": 116,
   "metadata": {},
   "outputs": [],
   "source": [
    "minmax = preprocessing.MinMaxScaler()\n",
    "scaledvals = minmax.fit_transform(tranx_trans)\n",
    "tranx_trans = scaledvals\n",
    "scaledvals_test = minmax.fit_transform(testx_trans)\n",
    "testx_trans = scaledvals_test"
   ]
  },
  {
   "cell_type": "code",
   "execution_count": 117,
   "metadata": {},
   "outputs": [
    {
     "name": "stdout",
     "output_type": "stream",
     "text": [
      "3\n"
     ]
    }
   ],
   "source": [
    "cv_scores1 =[]\n",
    "for k in nn:\n",
    "    knn1 = neighbors.KNeighborsRegressor(n_neighbors=k)\n",
    "    scores1 = cross_val_score(knn1,tranx_trans,trainy,cv=5,scoring=\"neg_mean_squared_error\")\n",
    "    cv_scores1.append(scores1.mean())\n",
    "    \n",
    "opt_k1 = nn[cv_scores1.index(max(cv_scores1))]\n",
    "print(opt_k1)"
   ]
  },
  {
   "cell_type": "code",
   "execution_count": 118,
   "metadata": {},
   "outputs": [],
   "source": [
    "#build the model using optimal k\n",
    "m5 = neighbors.KNeighborsRegressor(n_neighbors=opt_k1).fit(tranx_trans,trainy)\n",
    "p5 = m5.predict(testx_trans)"
   ]
  },
  {
   "cell_type": "markdown",
   "metadata": {},
   "source": [
    "Parameters check MAE, MSE, RMSE"
   ]
  },
  {
   "cell_type": "code",
   "execution_count": 120,
   "metadata": {},
   "outputs": [
    {
     "name": "stdout",
     "output_type": "stream",
     "text": [
      "2499.4535519125693\n"
     ]
    }
   ],
   "source": [
    "#MAE\n",
    "m5_mae = metrics.mean_absolute_error(testy, p5)\n",
    "print(m5_mae)"
   ]
  },
  {
   "cell_type": "code",
   "execution_count": 121,
   "metadata": {},
   "outputs": [
    {
     "name": "stdout",
     "output_type": "stream",
     "text": [
      "23507443.755919855\n"
     ]
    }
   ],
   "source": [
    "#MSE\n",
    "m5_mse = metrics.mean_squared_error(testy, p5)\n",
    "print(m5_mse)"
   ]
  },
  {
   "cell_type": "code",
   "execution_count": 123,
   "metadata": {},
   "outputs": [
    {
     "name": "stdout",
     "output_type": "stream",
     "text": [
      "4848.447561428282\n"
     ]
    }
   ],
   "source": [
    "#RMSE\n",
    "m5_rmse = np.sqrt(metrics.mean_squared_error(testy, p5))\n",
    "print(m5_rmse)"
   ]
  },
  {
   "cell_type": "markdown",
   "metadata": {},
   "source": [
    "From these models we can say that, Random forest is good model as it has low MAE and low RMSE as compare to other models"
   ]
  }
 ],
 "metadata": {
  "kernelspec": {
   "display_name": "Python 3",
   "language": "python",
   "name": "python3"
  },
  "language_info": {
   "codemirror_mode": {
    "name": "ipython",
    "version": 3
   },
   "file_extension": ".py",
   "mimetype": "text/x-python",
   "name": "python",
   "nbconvert_exporter": "python",
   "pygments_lexer": "ipython3",
   "version": "3.7.3"
  }
 },
 "nbformat": 4,
 "nbformat_minor": 2
}
